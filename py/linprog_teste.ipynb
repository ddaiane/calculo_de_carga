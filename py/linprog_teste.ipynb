{
 "cells": [
  {
   "cell_type": "code",
   "execution_count": 24,
   "metadata": {},
   "outputs": [
    {
     "name": "stdout",
     "output_type": "stream",
     "text": [
      "Optimal values: [7.72865918e-11 1.46724834e-10 2.40000000e+02 7.73765300e-11\n",
      " 7.78782833e-11 1.66507986e-11 9.06720160e+00 1.62482759e+01\n",
      " 5.92000000e+01 9.54864594e+00]\n",
      "Optimal objective value: 3078.0233665852124\n"
     ]
    }
   ],
   "source": [
    "import numpy as np\n",
    "from scipy.optimize import linprog\n",
    "\n",
    "# Define the coefficients of the objective function\n",
    "C = np.array([4, 1.3, 1, 3.65, 3.8, 4, 8, 16, 32, 64])\n",
    "\n",
    "# Define the coefficients of the inequality constraints matrix A\n",
    "A = np.array([\n",
    "    [0.00032, 0.00048, 0.001, 0.06, 0.00024, 0.978, 0, 0, 0, 0],\n",
    "    [0.008, 0.004, 0.004, 0.008, 0.008, 0, 0.997, 0, 0, 0],\n",
    "    [0.004, 0.004, 0.0024, 0.003, 0.0052, 0, 0, 0.58, 0, 0],\n",
    "    [0.188, 0.168, 0.002, 0.178, 0.176, 0, 0, 0, 0.6, 0],\n",
    "    [0.096, 0, 0.002, 0.088, 0.094, 0, 0, 0, 0, 0.997]\n",
    "])\n",
    "\n",
    "# Define the right-hand side of the inequalities\n",
    "b = np.array([0.24, 10, 10, 36, 10])\n",
    "\n",
    "# Define bounds for variables\n",
    "bounds = [(0, None)] * len(C)  # Bounds for all variables: non-negative with no upper bound\n",
    "\n",
    "# Solve the linear programming problem\n",
    "result = linprog(-C, A_ub=A, b_ub=b, bounds=bounds)\n",
    "\n",
    "# Print the optimal values and the optimal objective value\n",
    "print('Optimal values:', result.x)\n",
    "print('Optimal objective value:', -result.fun)  # linprog minimizes by default, so negate the result for maximization\n"
   ]
  },
  {
   "cell_type": "code",
   "execution_count": 18,
   "metadata": {},
   "outputs": [
    {
     "name": "stdout",
     "output_type": "stream",
     "text": [
      "Collecting scipy\n",
      "  Downloading scipy-1.7.3-cp37-cp37m-win32.whl (30.6 MB)\n",
      "Requirement already satisfied: numpy<1.23.0,>=1.16.5 in c:\\users\\venturini\\appdata\\local\\programs\\python\\python37-32\\lib\\site-packages (from scipy) (1.21.6)\n",
      "Installing collected packages: scipy\n",
      "Successfully installed scipy-1.7.3\n",
      "Note: you may need to restart the kernel to use updated packages.\n"
     ]
    },
    {
     "name": "stderr",
     "output_type": "stream",
     "text": [
      "WARNING: You are using pip version 20.1.1; however, version 24.0 is available.\n",
      "You should consider upgrading via the 'c:\\Users\\Venturini\\AppData\\Local\\Programs\\Python\\Python37-32\\python.exe -m pip install --upgrade pip' command.\n"
     ]
    }
   ],
   "source": [
    "pip install scipy\n"
   ]
  }
 ],
 "metadata": {
  "kernelspec": {
   "display_name": "Python 3.7.9 32-bit",
   "language": "python",
   "name": "python3"
  },
  "language_info": {
   "codemirror_mode": {
    "name": "ipython",
    "version": 3
   },
   "file_extension": ".py",
   "mimetype": "text/x-python",
   "name": "python",
   "nbconvert_exporter": "python",
   "pygments_lexer": "ipython3",
   "version": "3.7.9"
  },
  "orig_nbformat": 4,
  "vscode": {
   "interpreter": {
    "hash": "447fac5545065e1c632709d07077d3c93b9be564106f2e65ea2a8f31ae0015d4"
   }
  }
 },
 "nbformat": 4,
 "nbformat_minor": 2
}
