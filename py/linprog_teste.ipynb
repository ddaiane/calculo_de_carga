{
 "cells": [
  {
   "cell_type": "code",
   "execution_count": 28,
   "metadata": {},
   "outputs": [
    {
     "name": "stdout",
     "output_type": "stream",
     "text": [
      "Optimal weight values: [  0.           0.         103.96171438   0.           0.\n",
      "   0.13909845   9.61299212  16.81119291  59.65346095   9.82154119]\n",
      "Optimal objective cost value: 2987.890518565813\n",
      "Total element weight content:\n",
      "[ 0.24 10.   10.   36.   10.  ]\n",
      "Total weight: 199.9999999999996\n"
     ]
    }
   ],
   "source": [
    "import numpy as np\n",
    "from scipy.optimize import linprog\n",
    "\n",
    "#Define variables in the process\n",
    "\n",
    "w = 200 #total desired weight\n",
    "\n",
    "\n",
    "# Define the coefficients of the objective function;\n",
    "# Market value of each alloy/metal.\n",
    "C = np.array([4, 1.3, 1, 3.65, 3.8, 4, 8, 16, 32, 64])\n",
    "\n",
    "# Define the coefficients of the inequality constraints matrix A;\n",
    "# Decimal values of each component in the alloy/metals used ie 0.2% carbon content equals 0.002.\n",
    "# Default maximum content, to add mininum content use negative numbers\n",
    "A = np.array([\n",
    "    [0.00032, 0.00048, 0.001, 0.06, 0.00024, 0.978, 0, 0, 0, 0],\n",
    "    [0.008, 0.004, 0.004, 0.008, 0.008, 0, 0.997, 0, 0, 0],\n",
    "    [0.004, 0.004, 0.0024, 0.003, 0.0052, 0, 0, 0.58, 0, 0],\n",
    "    [0.188, 0.168, 0.002, 0.178, 0.176, 0, 0, 0, 0.6, 0],\n",
    "    [0.096, 0, 0.002, 0.088, 0.094, 0, 0, 0, 0, 0.997]\n",
    "])\n",
    "\n",
    "# Define the right-hand side of the inequalities;\n",
    "# Default maximum content, to add mininum content use negative numbers;\n",
    "# Mass value of each component desired in the final alloy mass value ie total carbon content desired in 100kg of 304 (0.08%C) is 0.08kg and 304L (0.03%C) is 0.03kg.\n",
    "b = np.array([0.24, 10, 10, 36, 10])\n",
    "\n",
    "# Define bounds for variables;\n",
    "# First value 0 or minimal mass weight of alloy/metal and seconda value to maximum allowable ie None to use it freely or the amount disponible in stock.\n",
    "bounds = [(0, None)] * len(C)  # Bounds for all variables: non-negative with no upper bound\n",
    "\n",
    "# Define the coefficients of the equality constraint matrix A_eq;\n",
    "# ni = 1.\n",
    "A_eq = np.ones((1, len(C)))  # Coefficients of [x1, x2, x3]\n",
    "\n",
    "# Define the right-hand side of the equality constraint;\n",
    "# Define the maximum total weigh allowable;\n",
    "b_eq = np.array([w])  # Equality constraint RHS: 5\n",
    "\n",
    "\n",
    "# Solve the linear programming problem;\n",
    "result = linprog(-C, A_ub=A, b_ub=b, A_eq=A_eq, b_eq=b_eq, bounds=bounds)\n",
    "\n",
    "# Print the optimal values and the optimal objective value\n",
    "print('Optimal weight values:', result.x)\n",
    "print('Optimal objective cost value:', -result.fun)  # linprog minimizes by default, so negate the result for maximization\n",
    "\n",
    "# Multiply the solution vector with the transposed matrix A\n",
    "solution_matrix = np.dot(result.x, A.T)\n",
    "\n",
    "# Print the result\n",
    "print('Total element weight content:')\n",
    "print(solution_matrix)\n",
    "\n",
    "# Calculate the sum of the result.x array\n",
    "sum_x = np.sum(result.x)\n",
    "print('Total weight:', sum_x)\n",
    "\n",
    "\n"
   ]
  },
  {
   "cell_type": "code",
   "execution_count": 36,
   "metadata": {},
   "outputs": [
    {
     "name": "stdout",
     "output_type": "stream",
     "text": [
      "Array 'c_min': [1.01e+03 1.00e+00 8.00e-02 1.30e-01 0.00e+00 1.00e+00 0.00e+00 6.00e-01\n",
      " 0.00e+00 5.00e-01 0.00e+00 5.00e-01 0.00e+00 0.00e+00 0.00e+00 0.00e+00\n",
      " 0.00e+00 0.00e+00 0.00e+00 0.00e+00 0.00e+00 0.00e+00 0.00e+00 0.00e+00]\n",
      "Array 'c_max': ['304L' 13.6 0 0.03 0 2 0 1 18 20 8 10 0 0 0 0 0 0 0 0 0 0 0 0]\n",
      "Array 'mn_min': ['Fe-Cr ' 15.7 0 0 0 0 0 0 50 75 0 0 0 0 0 0 0 0 0 0 0 0 0 0]\n",
      "Array 'mn_max': ['Ni 4x4' 67 0 0 0 0 0 0 0 0 99.5 100 0 0 0 0 0 0 0 0 0 0 0 0]\n",
      "Array 'si_min': ['Carburante ' 2 97 99 0 0 0 0 0 0 0 0 0 0 0 0 0 0 0 0 0 0 0 0]\n",
      "Array 'si_max': ['Mn' 10.4 0 0 99.5 100 0 0 0 0 0 0 0 0 0 0 0 0 0 0 0 0 0 0]\n",
      "Array 'cr_min': ['Fe-Si' 10 0 0 0 0 55 70 0 0 0 0 0 0 0 0 0 0 0 0 0 0 0 0]\n",
      "Array 'cr_max': ['Cu' 27 0 0 0 0 0 0 0 0 0 0 99.7 99.7 0 0 0 0 0 0 0 0 0 0]\n",
      "Array 'ni_min': ['Mo' 74 0 0 0 0 0 0 0 0 0 0 0 0 60 60 0 0 0 0 0 0 0 0]\n",
      "Array 'ni_max': [3.04e+02 4.00e+00 0.00e+00 8.00e-02 0.00e+00 2.00e+00 0.00e+00 1.00e+00\n",
      " 1.80e+01 2.00e+01 8.00e+00 1.20e+01 0.00e+00 0.00e+00 0.00e+00 0.00e+00\n",
      " 0.00e+00 0.00e+00 0.00e+00 0.00e+00 0.00e+00 0.00e+00 0.00e+00 0.00e+00]\n",
      "Array 'cu_min': [3.16e+02 2.00e+00 0.00e+00 8.00e-02 8.00e-01 1.50e+00 1.00e+00 1.50e+00\n",
      " 1.80e+01 2.10e+01 9.00e+00 1.20e+01 0.00e+00 0.00e+00 2.00e+00 3.00e+00\n",
      " 0.00e+00 0.00e+00 0.00e+00 0.00e+00 0.00e+00 0.00e+00 0.00e+00 0.00e+00]\n",
      "Array 'cu_max': ['316L' 9 0 0.03 0 1.5 0 1.5 18 21 9 12 0 0 2 3 0 0 0 0 0 0 0 0]\n",
      "Array 'mo_min': ['1. 4581' 2 0 0.07 1 1.5 0.2 1 18 19 11 12 0 0 2.3 2.5 0.56 0.8 0 0 0 0 0\n",
      " 0]\n",
      "Array 'mo_max': ['17.4 PH' 5.8 0 0.06 0 1 0 1 15 17.5 3 5 0 0 0 0 0 0 0 0 0 0 0 0]\n",
      "Array 'nb_min': [4.14e+03 1.45e+00 3.50e-01 4.50e-01 7.00e-01 1.00e+00 2.00e-01 8.00e-01\n",
      " 8.00e-01 1.10e+00 0.00e+00 5.00e-01 0.00e+00 5.00e-01 1.50e-01 2.50e-01\n",
      " 0.00e+00 0.00e+00 0.00e+00 1.00e-01 0.00e+00 0.00e+00 0.00e+00 0.00e+00]\n",
      "Array 'nb_max': [5.14e+03 1.10e+00 3.80e-01 4.30e-01 7.00e-01 9.00e-01 1.50e-01 3.50e-01\n",
      " 7.00e-01 9.00e-01 0.00e+00 2.50e-01 0.00e+00 3.50e-01 0.00e+00 0.00e+00\n",
      " 0.00e+00 0.00e+00 0.00e+00 0.00e+00 0.00e+00 0.00e+00 0.00e+00 0.00e+00]\n",
      "Array 'w_min': [6.15e+03 1.00e+03 4.50e-01 5.50e-01 6.50e-01 9.50e-01 2.00e-01 3.50e-01\n",
      " 8.00e-01 1.10e+00 0.00e+00 5.00e-01 0.00e+00 5.00e-01 0.00e+00 0.00e+00\n",
      " 0.00e+00 0.00e+00 0.00e+00 1.00e-01 1.50e-01 3.00e-01 0.00e+00 0.00e+00]\n",
      "Array 'w_max': ['42CrMo4' 1.3 0.38 0.45 0.6 0.9 0 0.4 0.9 1.2 0 0 0 0 0.15 0.3 0 0 0 0 0\n",
      " 0 0 0]\n",
      "Array 'v_min': ['1. 4713' 1.92 0 0.12 0 1 0.5 1 6 8 0 0 0 0 0 0 0 0 0 0 0 0 0.5 1]\n",
      "Array 'v_max': ['420 ESP.' 3 0.2 0.3 0.5 0.8 0.5 1 12 14 0.2 0.5 0 0 0.55 0.65 0 0 0 0\n",
      " 0.18 0.25 0 0]\n",
      "Array 'al_min': ['IC 1045' 1.1 0.42 0.5 0.6 0.9 0.2 1 0 0 0 0 0 0 0 0 0 0 0 0 0 0 0 0]\n",
      "Array 'al_max': ['1. 2714' 2.92 0.5 0.6 0.6 0.9 0.1 0.4 0.8 1.2 1.5 1.8 0 0 0.35 0.55 0 0\n",
      " 0 0 0.05 0.15 0 0]\n"
     ]
    }
   ],
   "source": [
    "import pandas as pd\n",
    "\n",
    "# Load the Excel file\n",
    "excel_file = \"materiais.xlsx\"  # Replace \"your_excel_file.xlsx\" with the path to your Excel file\n",
    "df = pd.read_excel(excel_file, engine='openpyxl')\n",
    "\n",
    "# Define column labels\n",
    "columns = ['c_min', 'c_max', 'mn_min', 'mn_max', 'si_min', 'si_max', 'cr_min', 'cr_max', 'ni_min', 'ni_max', 'cu_min', 'cu_max', 'mo_min', 'mo_max', 'nb_min', 'nb_max', 'w_min', 'w_max', 'v_min', 'v_max', 'al_min', 'al_max']\n",
    "\n",
    "# Create a dictionary to store arrays for each column\n",
    "data = {}\n",
    "\n",
    "# Extract arrays for each column\n",
    "for col in columns:\n",
    "    try:\n",
    "        col_index = df.index[df.iloc[:, 0] == col][0]\n",
    "        data[col] = df.iloc[:, col_index + 1].values\n",
    "    except IndexError:\n",
    "        print(f\"Column '{col}' not found in the Excel file.\")\n",
    "\n",
    "# Print extracted arrays\n",
    "for col, arr in data.items():\n",
    "    print(f\"Array '{col}':\", arr)"
   ]
  }
 ],
 "metadata": {
  "kernelspec": {
   "display_name": "Python 3.7.9 32-bit",
   "language": "python",
   "name": "python3"
  },
  "language_info": {
   "codemirror_mode": {
    "name": "ipython",
    "version": 3
   },
   "file_extension": ".py",
   "mimetype": "text/x-python",
   "name": "python",
   "nbconvert_exporter": "python",
   "pygments_lexer": "ipython3",
   "version": "3.7.9"
  },
  "orig_nbformat": 4,
  "vscode": {
   "interpreter": {
    "hash": "447fac5545065e1c632709d07077d3c93b9be564106f2e65ea2a8f31ae0015d4"
   }
  }
 },
 "nbformat": 4,
 "nbformat_minor": 2
}
